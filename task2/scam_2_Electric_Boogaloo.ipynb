{
 "cells": [
  {
   "cell_type": "markdown",
   "metadata": {},
   "source": [
    "# Final Script -- 30/11/2019"
   ]
  },
  {
   "cell_type": "code",
   "execution_count": 3,
   "metadata": {},
   "outputs": [],
   "source": [
    "import numpy as np\n",
    "import pandas as pd\n",
    "from biosppy.signals import ecg\n",
    "from sklearn.preprocessing import StandardScaler\n",
    "from sklearn.metrics import f1_score\n",
    "from sklearn.svm import SVC\n",
    "from sklearn.ensemble import RandomForestClassifier\n",
    "from sklearn.ensemble import GradientBoostingClassifier\n",
    "from sklearn.linear_model import LogisticRegression\n",
    "from sklearn.model_selection import KFold, GridSearchCV\n",
    "from sklearn.pipeline import Pipeline, make_pipeline\n",
    "from sklearn.metrics import make_scorer\n",
    "from sklearn.impute import SimpleImputer\n",
    "import xgboost as xgb"
   ]
  },
  {
   "cell_type": "code",
   "execution_count": 5,
   "metadata": {},
   "outputs": [
    {
     "name": "stdout",
     "output_type": "stream",
     "text": [
      "(5117, 17807) (3411, 17807) (5117, 1)\n"
     ]
    }
   ],
   "source": [
    "xtrain = pd.read_csv(\"data/X_train.csv\")\n",
    "xtrain.drop(\"id\", axis=1, inplace = True)\n",
    "\n",
    "xtest =  pd.read_csv(\"data/X_test.csv\")\n",
    "xtest.drop(\"id\", axis=1, inplace = True)\n",
    "\n",
    "ytrain = pd.read_csv(\"data/y_train.csv\")\n",
    "ytrain.drop(\"id\", axis=1, inplace = True)\n",
    "\n",
    "print(xtrain.shape, xtest.shape, ytrain.shape)"
   ]
  },
  {
   "cell_type": "code",
   "execution_count": 6,
   "metadata": {},
   "outputs": [],
   "source": [
    "def mean_sqrd_diff(rpeaks):\n",
    "    diff = np.diff(rpeaks)\n",
    "    mean_sqrd = np.mean(diff*diff)\n",
    "    return mean_sqrd\n",
    "\n",
    "def obtain_features(signal, sampling_rate):\n",
    "    \n",
    "    # features obtained from biosppy\n",
    "    ts, filtered, rpeaks, templates_ts, templates, heart_rate_ts, heart_rate = ecg.ecg(signal, sampling_rate, show = False)\n",
    "    \n",
    "    # Correct R-peak locations to the maximum --- introduce some tolerance level\n",
    "    rpeaks = ecg.correct_rpeaks(signal = signal, rpeaks = rpeaks, sampling_rate = sampling_rate, tol = 0.01)  \n",
    "    \n",
    "    # extracting values of R-peaks -- Note: rpeaks gives only indices for R-peaks location\n",
    "    peak_values = signal[rpeaks]\n",
    "    \n",
    "    # Set heart rates to array of nans if contains no elements, otherwise min and max are not defined\n",
    "    if len(heart_rate) == 0:\n",
    "        heart_rate = np.array([np.nan, np.nan])\n",
    "    if len(heart_rate_ts) == 0:\n",
    "        heart_rate_ts = np.array([np.nan, np.nan])\n",
    "    \n",
    "    # Add a bunch of features\n",
    "    feats = np.array([])\n",
    "    feats = np.append(feats, np.mean(peak_values))\n",
    "    feats = np.append(feats, np.median(peak_values))\n",
    "    feats = np.append(feats, np.min(peak_values))\n",
    "    feats = np.append(feats, np.max(peak_values))\n",
    "    feats = np.append(feats, np.std(peak_values))\n",
    "    feats = np.append(feats, np.mean(rpeaks))\n",
    "    feats = np.append(feats, np.median(rpeaks))\n",
    "    feats = np.append(feats, np.min(rpeaks))\n",
    "    feats = np.append(feats, np.max(rpeaks))\n",
    "    feats = np.append(feats, np.std(rpeaks))\n",
    "    feats = np.append(feats, np.sqrt(mean_sqrd_diff(rpeaks)))\n",
    "    feats = np.append(feats, np.mean(np.diff(rpeaks)))\n",
    "    feats = np.append(feats, np.median(np.diff(rpeaks)))\n",
    "    feats = np.append(feats, np.min(np.diff(rpeaks)))\n",
    "    feats = np.append(feats, np.max(np.diff(rpeaks)))\n",
    "    feats = np.append(feats, np.std(np.diff(rpeaks)))\n",
    "    feats = np.append(feats, np.mean(templates, axis = 0))\n",
    "    feats = np.append(feats, np.median(templates, axis = 0))\n",
    "    feats = np.append(feats, np.min(templates, axis=0))\n",
    "    feats = np.append(feats, np.max(templates, axis=0))\n",
    "    feats = np.append(feats, np.std(templates, axis = 0))\n",
    "    feats = np.append(feats, np.mean(heart_rate))\n",
    "    feats = np.append(feats, np.median(heart_rate))\n",
    "    feats = np.append(feats, np.min(heart_rate))\n",
    "    feats = np.append(feats, np.max(heart_rate))\n",
    "    feats = np.append(feats, np.std(heart_rate))\n",
    "    feats = np.append(feats, np.mean(heart_rate_ts))\n",
    "    feats = np.append(feats, np.median(heart_rate_ts))\n",
    "    feats = np.append(feats, np.min(heart_rate_ts))\n",
    "    feats = np.append(feats, np.max(heart_rate_ts))\n",
    "    feats = np.append(feats, np.std(heart_rate_ts))\n",
    "    # Once again check, if heart_rate arrays contain one element min and max of differences will return error\n",
    "    if len(heart_rate) == 1:\n",
    "        heart_rate = np.array([np.nan, np.nan])\n",
    "    if len(heart_rate_ts) == 1:\n",
    "        heart_rate_ts = np.array([np.nan, np.nan])\n",
    "    feats = np.append(feats, np.mean(np.diff(heart_rate)))\n",
    "    feats = np.append(feats, np.median(np.diff(heart_rate)))\n",
    "    feats = np.append(feats, np.min(np.diff(heart_rate)))\n",
    "    feats = np.append(feats, np.max(np.diff(heart_rate)))\n",
    "    feats = np.append(feats, np.std(np.diff(heart_rate)))\n",
    "    feats = np.append(feats, np.mean(np.diff(heart_rate_ts)))\n",
    "    feats = np.append(feats, np.median(np.diff(heart_rate_ts)))\n",
    "    feats = np.append(feats, np.min(np.diff(heart_rate_ts)))\n",
    "    feats = np.append(feats, np.max(np.diff(heart_rate_ts)))\n",
    "    feats = np.append(feats, np.std(np.diff(heart_rate_ts)))\n",
    "    \n",
    "    #feats = np.append(feats, np.abs(np.fft.rfft(np.mean(templates, axis=0), axis=0))[0:45] # adding FFT (choose only half of entries)\n",
    "    '''removed fft -- no improvements by adding it'''\n",
    "\n",
    "    return feats"
   ]
  },
  {
   "cell_type": "code",
   "execution_count": 7,
   "metadata": {},
   "outputs": [
    {
     "name": "stdout",
     "output_type": "stream",
     "text": [
      "(5117, 936) (5117,) (3411, 936)\n"
     ]
    }
   ],
   "source": [
    "for i in np.arange(xtrain.shape[0]):\n",
    "    if i == 0:\n",
    "        row = np.array(xtrain.iloc[i].dropna())\n",
    "        X_train = [obtain_features(row, 300)]\n",
    "    else: \n",
    "        row = np.array(xtrain.iloc[i].dropna())\n",
    "        X_train = np.append(X_train, [obtain_features(row, 300)], axis = 0)\n",
    "    \n",
    "for i in np.arange(xtest.shape[0]):\n",
    "    if i == 0:\n",
    "        row = np.array(xtest.iloc[i].dropna())\n",
    "        X_test = [obtain_features(row, 300)]\n",
    "    else: \n",
    "        row = np.array(xtest.iloc[i].dropna())\n",
    "        X_test = np.append(X_test, [obtain_features(row, 300)], axis = 0)\n",
    "\n",
    "y_train = np.ravel(np.array(ytrain.values))    \n",
    "\n",
    "print(X_train.shape, y_train.shape, X_test.shape)"
   ]
  },
  {
   "cell_type": "code",
   "execution_count": 8,
   "metadata": {},
   "outputs": [
    {
     "name": "stdout",
     "output_type": "stream",
     "text": [
      "(2047,) (2047, 936)\n"
     ]
    }
   ],
   "source": [
    "'''\n",
    "use random subset of initial dataframe X for model selection  \n",
    "'''\n",
    "\n",
    "X_train = pd.DataFrame(X_train) \n",
    "X_train['y'] = y_train\n",
    "X_sub = pd.DataFrame(X_train).sample(frac = 0.40, replace = False, axis = 0)\n",
    "y_sub = X_sub['y']\n",
    "X_sub = X_sub.drop('y', axis = 1).values\n",
    "X_train = X_train.drop('y', axis = 1)\n",
    "print(y_sub.shape, X_sub.shape)\n",
    "\n",
    "'''define score function'''\n",
    "scorer_f1 = make_scorer(f1_score, greater_is_better = True, average = 'micro')"
   ]
  },
  {
   "cell_type": "code",
   "execution_count": 7,
   "metadata": {},
   "outputs": [
    {
     "name": "stdout",
     "output_type": "stream",
     "text": [
      "Fitting 2 folds for each of 648 candidates, totalling 1296 fits\n"
     ]
    },
    {
     "name": "stderr",
     "output_type": "stream",
     "text": [
      "[Parallel(n_jobs=1)]: Using backend SequentialBackend with 1 concurrent workers.\n",
      "[Parallel(n_jobs=1)]: Done 1296 out of 1296 | elapsed: 577.2min finished\n"
     ]
    },
    {
     "name": "stdout",
     "output_type": "stream",
     "text": [
      "0.8151260504201681\n",
      "{'classifier__learning_rate': 0.1, 'classifier__max_depth': 5, 'classifier__max_features': 60, 'classifier__n_estimators': 250, 'impute__fill_value': 0, 'impute__strategy': 'median'}\n"
     ]
    },
    {
     "data": {
      "text/plain": [
       "'\\n## XGB APPROACH -- GRID-SEARCH CV\\n\\n\\nsteps = [(\"scaler\", preprocessing.StandardScaler()), (\"classifier\", xgb.XGBClassifier())]\\npipeline = Pipeline(steps = steps)\\n\\nparameters = {\"classifier__max_depth\": [5,10,15],\\n              \"classifier__n_estimators\": [200],\\n              \"classifier__learning_rate\": [0.05,0.1],\\n              \"classifier__max_features\": [20,40]\\n             }\\n\\ngrid = GridSearchCV(pipeline, parameters, cv = 2, scoring = scorer_f1, verbose = 1)\\n\\ngrid.fit(X_sub, y_sub)\\nprint(grid.best_score_)\\nprint(grid.best_params_)\\n\\n'"
      ]
     },
     "execution_count": 7,
     "metadata": {},
     "output_type": "execute_result"
    }
   ],
   "source": [
    "'''\n",
    "## SVC APPROACH -- GRID-SEARCH CV\n",
    "\n",
    "steps = [(\"impute\", SimpleImputer()),\n",
    "            (\"scaler\", preprocessing.StandardScaler()), \n",
    "            (\"classifier\", SVC())]\n",
    "pipeline = Pipeline(steps = steps)\n",
    "\n",
    "parameters = {\"impute__strategy\": [\"mean\", \"median\", \"constant\"],\n",
    "              \"impute__fill_value\": [0],\n",
    "              \"classifier__kernel\": [\"rbf\", \"poly\"],\n",
    "              \"classifier__gamma\": [\"auto\"],\n",
    "              \"classifier__C\": [15,30,45,60,75],  \n",
    "              \"classifier__class_weight\": [\"balanced\"],\n",
    "              \"classifier__degree\": [2,4,6,8]\n",
    "             }\n",
    "\n",
    "grid = GridSearchCV(pipeline, parameters, cv = 5, scoring = scorer_f1, verbose = 2)\n",
    "\n",
    "grid.fit(X, y)\n",
    "print(grid.best_score_)\n",
    "print(grid.best_params_)\n",
    "\n",
    "estimator = SVC(C = grid.best_params_['classifier__C'], gamma = 'auto', \n",
    "                class_weight = 'balanced', \n",
    "                kernel = grid.best_params_['classifier__kernel'], \n",
    "                degree = grid.best_params_['classifier__degree'])\n",
    "\n",
    "estimator.fit(xtrain_scaled, y)\n",
    "pred = estimator.predict(xtest_scaled)\n",
    "make_submission(\"prediction_trial.csv\", pred)\n",
    "'''\n",
    "\n",
    "'''\n",
    "Gradient Boosting APPROACH -- GRID-SEARCH CV\n",
    "''' \n",
    "steps = [(\"impute\", SimpleImputer()),\n",
    "         (\"scaler\", preprocessing.StandardScaler()), \n",
    "         (\"classifier\", GradientBoostingClassifier())]\n",
    "pipeline = Pipeline(steps = steps)\n",
    "\n",
    "parameters = {\"impute__strategy\": [\"mean\", \"median\", \"constant\"],\n",
    "              \"impute__fill_value\": [0],\n",
    "              \"classifier__max_depth\": [3,4,5,6,7,8],\n",
    "              \"classifier__n_estimators\": [200,250,300],\n",
    "              \"classifier__learning_rate\": [0.1,0.08,0.05,0.03],\n",
    "              \"classifier__max_features\": [40,50,60]\n",
    "             }\n",
    "\n",
    "grid = GridSearchCV(pipeline, parameters, cv = 2, scoring = scorer_f1, verbose = 1)\n",
    "grid.fit(X_train, y_train)\n",
    "\n",
    "print(grid.best_score_)\n",
    "print(grid.best_params_)\n",
    "\n",
    "'''\n",
    "## XGB APPROACH -- GRID-SEARCH CV\n",
    "\n",
    "\n",
    "steps = [(\"impute\", SimpleImputer()),\n",
    "            (\"scaler\", preprocessing.StandardScaler()), \n",
    "            (\"classifier\", xgb.XGBClassifier())]\n",
    "pipeline = Pipeline(steps = steps)\n",
    "\n",
    "parameters = {\"impute__strategy\": [\"mean\", \"median\", \"constant\"],\n",
    "              \"impute__fill_value\": [0],\n",
    "              \"classifier__max_depth\": [5,10,15],\n",
    "              \"classifier__n_estimators\": [200],\n",
    "              \"classifier__learning_rate\": [0.05,0.1],\n",
    "              \"classifier__max_features\": [20,40]\n",
    "             }\n",
    "\n",
    "grid = GridSearchCV(pipeline, parameters, cv = 2, scoring = scorer_f1, verbose = 1)\n",
    "\n",
    "grid.fit(X_sub, y_sub)\n",
    "print(grid.best_score_)\n",
    "print(grid.best_params_)\n",
    "\n",
    "'''"
   ]
  },
  {
   "cell_type": "code",
   "execution_count": 10,
   "metadata": {},
   "outputs": [],
   "source": [
    "#replacing NaNs with median of columns\n",
    "\n",
    "impute1 = SimpleImputer(strategy = 'median', fill_value = 0)\n",
    "X_train = impute1.fit_transform(X_train)\n",
    "impute2 = SimpleImputer(strategy = 'median', fill_value = 0)\n",
    "X_test = impute2.fit_transform(X_test)\n",
    "\n",
    "#rescaling data\n",
    "scaler = StandardScaler() \n",
    "scaler.fit(X_train)\n",
    "X_train = scaler.transform(X_train)\n",
    "X_test = scaler.transform(X_test)\n",
    "\n",
    "\n",
    "#using best parameter given by GS\n",
    "estimator = GradientBoostingClassifier(n_estimators = 250, \n",
    "                                       max_depth = 5,\n",
    "                                       learning_rate = 0.1, \n",
    "                                       max_features = 60)\n",
    "\n",
    "estimator.fit(X_train, y_train)\n",
    "predictions = estimator.predict(X_test)\n",
    "\n",
    "sample =  pd.read_csv(\"data/sample.csv\")\n",
    "sample[\"y\"] = predictions\n",
    "sample.to_csv(\"submission.csv\", index = False)"
   ]
  }
 ],
 "metadata": {
  "kernelspec": {
   "display_name": "Python 3.10.8 ('.venv': venv)",
   "language": "python",
   "name": "python3"
  },
  "language_info": {
   "codemirror_mode": {
    "name": "ipython",
    "version": 3
   },
   "file_extension": ".py",
   "mimetype": "text/x-python",
   "name": "python",
   "nbconvert_exporter": "python",
   "pygments_lexer": "ipython3",
   "version": "3.10.8"
  },
  "vscode": {
   "interpreter": {
    "hash": "cc956434671c9d2a1f0037a63563ca7d95e4a0612faa3b250242382d991a6c92"
   }
  }
 },
 "nbformat": 4,
 "nbformat_minor": 2
}
